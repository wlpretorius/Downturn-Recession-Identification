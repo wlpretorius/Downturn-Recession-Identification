{
 "cells": [
  {
   "cell_type": "markdown",
   "metadata": {},
   "source": [
    "# Data Science in Credit Risk: Compliant Economic Cycle and Downturn Identification for PDs and LGDs using Python."
   ]
  },
  {
   "cell_type": "markdown",
   "metadata": {},
   "source": [
    "Economic indicators assume a pivotal role in modeling the Probability of Default (PD) and Loss Given Default (LGD) within credit risk models. These two components stand as fundamental pillars in measuring credit risk across the financial and banking sectors. Let's delve into the significance of economic indicators in relation to each of these modeling aspects:\n",
    "\n",
    "- Modeling Probability of Default (PD):\n",
    "PD delineates the likelihood that a borrower will fail to fulfill their credit obligations over a specified timeframe. Economic indicators hold paramount importance in PD modeling due to the ensuing reasons:\n",
    "  - Macroeconomic Landscape: Economic conditions wield substantial influence over a borrower's capacity to meet debt commitments. A robust economy typically corresponds to reduced default rates, whereas economic downturns amplify default risks. Economic indicators encompassing GDP growth, unemployment metrics, inflation figures, consumer sentiment, and industrial production insights enable the calibration of PD models, thus reflecting the overall economic health.\n",
    "  - Sector-Specific Examination: Economic shifts impact distinct economic sectors in varied ways. For instance, retail and construction sectors might be more vulnerable to economic fluctuations compared to healthcare or utilities. Effective PD models account for these sector-specific economic indicators to ensure precise assessment of default probabilities.\n",
    "  - Analysis of Credit Cycles: Economic indicators facilitate the recognition of different phases within the credit cycle – expansion, peak, contraction, and trough. Each phase aligns with differing default rates. Adaptable PD models that respond to credit cycle fluctuations are pivotal for accurate risk evaluation.\n",
    "- Modeling Loss Given Default (LGD):\n",
    "LGD signifies the portion of exposure that a lender forfeits when a borrower defaults and falls short of repaying the entire loan amount. Economic indicators hold significant relevance in LGD modeling for the ensuing rationales:\n",
    "  - Valuation of Collateral: Economic circumstances wield sway over the value of collateral that lenders possess as security for loans. During economic strains, the collateral's value might dwindle, heightening potential losses upon default. Economic indicators facilitate the evaluation of the interplay between collateral values and economic oscillations.\n",
    "  - Evaluation of Recovery Rates: Economic elements exert influence on lenders' capacity to recuperate funds from defaulted assets. Amid economic downturns, the task of selling or recovering assets can be more arduous, thus leading to diminished recovery rates. LGD models must incorporate economic conditions to derive precise estimates of recovery rates.\n",
    "  - Consideration of Market Conditions: Economic indicators cast an impact on market liquidity and prevailing conditions. In instances of market illiquidity or distress, the ability to vend assets at advantageous prices diminishes, consequently affecting potential recoveries in the event of default.\n",
    "  - Impact on Legal and Regulatory Landscape: Economic conditions can equally sway the legal and regulatory milieu encircling default scenarios, thereby influencing the swiftness and effectiveness of recovery endeavors.\n",
    "\n",
    "The integration of economic indicators within LGD modeling bolsters the accuracy of predictive outcomes and bolsters the understanding of potential credit risk losses, underpinning the robustness of risk management practices. Therefore, the comprehensive consideration of economic indicators enhances the accuracy and adaptability of PD and LGD models, subsequently fortifying the overall efficacy of credit risk assessment practices."
   ]
  },
  {
   "cell_type": "markdown",
   "metadata": {},
   "source": [
    "In Europe, the European Banking Authority (EBA) offers guidelines emphasizing the significance of economic conditions when modeling Probability of Default (PDs) and Loss Given Default (LGDs). These guidelines are outlined in the document titled \"Guidelines on PD Estimation, LGD Estimation and Treatment of Defaulted Assets\" (EBA/GL/2017/16). Specifically, EBA regulations mandate that PDs should be calibrated to the long-term average default rate. The guidelines provide clarification on calculating this rate, indicating that if the historical observation period accurately represents the likely range of variability in one-year default rates and includes both good and bad years, then the average of observed one-year default rates should be used. However, if the one-year default rates don't accurately represent this variability, institutions should adjust the average of observed one-year default rates to estimate the long-term average default rate. For the sake of clarity, the presence, absence, or prominence of unfavorable years should be assessed in relation to relevant economic indicators for the specific type of exposure being considered. Notably, the guidelines elucidate that if the historical observation period contains an overrepresentation of unfavorable years, institutions may opt to downwardly adjust the observed average of default rates. This adjustment should be made using a suitable method that takes into account the correlation between pertinent economic indicators related to the considered portfolio and the actual observed default rates. In summary, the EBA guidelines stress the importance of economic indicators in calibrating PDs and LGDs. They provide guidance on how to calculate the long-term average default rate based on historical observation periods that encompass diverse economic conditions, and how to make adjustments when the historical data doesn't adequately reflect the variability. This approach aligns credit risk assessment more closely with the prevailing economic environment, enhancing the accuracy and relevance of the risk models employed by financial institutions."
   ]
  },
  {
   "cell_type": "markdown",
   "metadata": {},
   "source": [
    "For the purpose of aligning terminology, the guidelines define calibration in relation to PD estimation as the\n",
    "process of ensuring that the PDs assigned to grades or pools reflect the long-run average default rate\n",
    "at the level relevant to the applied calibration method. The specification of the historical observation period is based on the assumption that it should be as\n",
    "broad as possible, and should contain data from various periods with differing economic\n",
    "circumstances.\n"
   ]
  },
  {
   "cell_type": "markdown",
   "metadata": {},
   "source": [
    "paragraph 32 of the guidelines state that: For the purpose of paragraph 28(d) (current and foreseeable economic or market conditions;) institutions should perform the analysis of the market and\n",
    "economic conditions underlying the data in the following manner:\n",
    "- with regard to the PD estimation, in accordance with section 5.3.4;\n",
    "- with regard to the LGD estimation, in accordance with section 6.3.2 and taking into\n",
    "account the consideration of economic downturn as required by Article 181(1)(b) of\n",
    "Regulation (EU) No 575/2013."
   ]
  },
  {
   "cell_type": "markdown",
   "metadata": {},
   "source": [
    "paragraph 83 then further states that: For the purpose of assessing the representativeness of the historical observation period\n",
    "referred to in paragraph 82 for the likely range of variability of one-year-default rates,\n",
    "institutions should assess whether the historical observation period contains a representative\n",
    "mix of good and bad years, and they should take into account all of the following:\n",
    "- the variability of all observed one-year-default rates;\n",
    "- the existence, lack or prevalence of one-year default rates relating to bad years as\n",
    "reflected by economic indicators that are relevant for the considered type of exposures\n",
    "within the historical observation period;\n",
    "- significant changes in the economic, legal or business environment within the historical\n",
    "observation period."
   ]
  },
  {
   "cell_type": "markdown",
   "metadata": {},
   "source": [
    "A mixture of good and bad years are usually defined as a full business/economic cycle. An economic cycle, also known as a business cycle or economic fluctuation, refers to the natural and recurring pattern of expansion and contraction in a country's overall economic activity over time. It represents the fluctuations in key economic indicators such as gross domestic product (GDP), employment levels, industrial production, consumer spending, and investment. Economic cycles are characterized by alternating periods of growth (expansion) and contraction (recession), often with transitional phases in between. These cycles are a fundamental feature of market economies and are driven by various factors including changes in consumer behavior, investment patterns, technological advancements, government policies, and global economic conditions.\n",
    "\n",
    "The typical phases of an economic cycle include:\n",
    "\n",
    "1. **Expansion:** This phase is characterized by rising economic activity, increased consumer spending, growing business investments, and declining unemployment rates. During an expansion, GDP and other key indicators generally experience positive growth. (Good Years).\n",
    "\n",
    "2. **Peak:** The peak marks the high point of economic growth in a cycle. At this stage, economic activity has reached its maximum potential, and indicators like GDP growth may start to slow down. Consumer and business optimism is usually high.\n",
    "\n",
    "3. **Contraction (Recession):** During this phase, economic growth slows down, leading to reduced consumer spending, decreased business investments, and rising unemployment. A recession is defined as a period of at least two consecutive quarters of negative GDP growth. (Bad Years). \n",
    "\n",
    "4. **Trough:** The trough represents the bottom of the economic cycle. Economic activity reaches its lowest point, and indicators like GDP and employment experience significant declines. However, the trough also marks the turning point from contraction to expansion.\n",
    "\n",
    "5. **Recovery:** After hitting the trough, the economy starts to recover. Economic indicators gradually improve, consumer and business confidence rises, and the economy begins to grow again.\n",
    "\n",
    "The duration and intensity of economic cycles can vary widely. Shorter cycles, known as \"mini-cycles,\" can last a few months to a year, while longer cycles can span several years. The causes and timing of economic cycles are complex and influenced by a multitude of factors, including fiscal and monetary policies, technological innovation, geopolitical events, and global economic trends. Understanding economic cycles are crucial for calibrating PDs and LGDs to their long-run averages."
   ]
  },
  {
   "cell_type": "markdown",
   "metadata": {},
   "source": [
    "Additionally, EBA also requires downturn periods to be specified for LGD calibration. This is stated in the COMMISSION DELEGATED REGULATION (EU) 2021/930 of 1 March 2021 supplementing Regulation (EU) No 575/2013 of the European Parliament and of the Council with\n",
    "regard to regulatory technical standards specifying the nature, severity and duration of an economic downturn referred to in Article 181(1), point (b), and Article 182(1), point (b), of that Regulation. "
   ]
  },
  {
   "cell_type": "markdown",
   "metadata": {},
   "source": [
    "In accordance with the Basel II framework, the estimation of loss given default (LGD) and conversion factor (CF) should incorporate provisions for downturn conditions, especially if these estimates prove to be more cautious than long-term averages. This requirement has been integrated into EU legislation through Articles 181(b) and 182(b) of Regulation (EU) No 575/2013, also known as the Capital Requirements Regulation (CRR). However, developing robust estimation methodologies for LGDs tailored to such downturn scenarios (referred to as LGD DT) and CFs aligned with these conditions (referred to as CF DT) has presented notable challenges."
   ]
  },
  {
   "cell_type": "markdown",
   "metadata": {},
   "source": [
    "In particular, the characterization of an economic downturn is delineated as an assortment of economic elements pertinent to the specific exposure types being examined. The intensity of such a downturn is precisely identified as the compilation of the utmost severe values witnessed during a defined historical timeframe across the pertinent economic elements. Furthermore, the duration of an economic downturn is explicitly determined by the span of time encompassing the individual periods of downturn that constitute the entirety of the considered economic decline. Within the context of these Regulatory Technical Standards (RTS), a \"downturn period\" is officially defined as a timeframe spanning at least 12 months during which the most severe magnitudes (i.e., the severities) of various interrelated and pertinent economic factors are reached concurrently or in close succession."
   ]
  },
  {
   "cell_type": "markdown",
   "metadata": {},
   "source": [
    "It's essential to highlight that, in accordance with this framework, the duration of an economic downturn is determined by the cumulative span of the identified downturn periods. The length of a downturn period is generally aligned with a 12-month timeframe during which the economic conditions indicative of a downturn are observed for the relevant economic factor. Nevertheless, a degree of flexibility is allowed in terms of the downturn period's duration. This flexibility might apply in situations where the most severe manifestation of an underlying economic factor persists over a prolonged timeframe.\n",
    "\n",
    "Importantly, it should be emphasized that the specified duration of an economic downturn, as defined by the collection of downturn periods, remains distinct from an institution's loss experience. This distinction is crucial, and the duration of an economic downturn should not be conflated with the period during which the impact of a downturn period becomes evident in an institution's loss data."
   ]
  },
  {
   "cell_type": "markdown",
   "metadata": {},
   "source": [
    "Article 1 establishes the organizational framework of the Regulatory Technical Standards (RTS) by indicating the specific articles within which the characteristics of an economic downturn are detailed. Notably, paragraph 2 introduces the notion of a \"downturn period,\" referring to a defined timeframe wherein the high points or low points of one or more pertinent economic factors align concurrently. Alternatively, this concept encompasses situations where such alignment does not occur simultaneously, yet these points are still attributed to a singular economic condition.\n",
    "\n",
    "Furthermore, within Article 1, paragraph 3 outlines the prescribed level at which an economic downturn must be delineated."
   ]
  },
  {
   "cell_type": "markdown",
   "metadata": {},
   "source": [
    "In this respect, the design of the economic downturn to be considered for the purpose of LGD DT\n",
    "and CF DT estimates may consist of either:\n",
    "- one downturn period, if the peaks or troughs related to the severities of the relevant\n",
    "economic factors are reached simultaneously or are related to the same overall economic\n",
    "condition;\n",
    "- several downturn periods, if the peaks/troughs of the relevant economic factors are observed\n",
    "in different time periods and are not related to the same overall economic condition. "
   ]
  },
  {
   "cell_type": "markdown",
   "metadata": {},
   "source": [
    "A longer duration could be also considered for a downturn period relating to one economic factor,\n",
    "according to Article 4(2)(c), where the peak and trough related to the severity of that economic\n",
    "factor show adjacent peaks and troughs related to the same economic conditions."
   ]
  },
  {
   "cell_type": "markdown",
   "metadata": {},
   "source": [
    "## Identifying Recession periods"
   ]
  },
  {
   "cell_type": "code",
   "execution_count": null,
   "metadata": {},
   "outputs": [],
   "source": []
  },
  {
   "cell_type": "markdown",
   "metadata": {},
   "source": [
    "# Identifying Downturns"
   ]
  },
  {
   "cell_type": "code",
   "execution_count": null,
   "metadata": {},
   "outputs": [],
   "source": []
  }
 ],
 "metadata": {
  "kernelspec": {
   "display_name": "DownturnsRecessions",
   "language": "python",
   "name": "python3"
  },
  "language_info": {
   "name": "python",
   "version": "3.11.4"
  },
  "orig_nbformat": 4
 },
 "nbformat": 4,
 "nbformat_minor": 2
}
